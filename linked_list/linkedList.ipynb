{
 "cells": [
  {
   "cell_type": "markdown",
   "id": "0a7bab8e",
   "metadata": {},
   "source": [
    "### 1. Create Single Linked List class with following functionalities:\n",
    "- Add at head\n",
    "- Add at tail\n",
    "- Delete at head\n",
    "- Delete at tail\n",
    "- Add after given data\n",
    "- Delete after given data\n",
    "- Search an element"
   ]
  },
  {
   "cell_type": "code",
   "execution_count": null,
   "id": "0d3fc4aa",
   "metadata": {},
   "outputs": [],
   "source": [
    "class Single_linked_list():\n",
    "    class _node_ :\n",
    "        def __init__ (self,ele):\n",
    "            self.data = ele\n",
    "            self.next = None\n",
    "\n",
    "    def __init__ (self):\n",
    "        self.head=None\n",
    "        self.tail =None\n",
    "        self.count = 0\n",
    "\n",
    "    def is_empty(self):\n",
    "        return self.count==0\n",
    "\n",
    "    def get_count(self):\n",
    "        return self.count\n",
    "\n",
    "    def add_at_head(self,ele):\n",
    "        new_node = self._node_(ele)\n",
    "        if not self.is_empty():\n",
    "            new_node.next = self.head\n",
    "            self.head = new_node\n",
    "        else:\n",
    "            self.head = self.tail = new_node\n",
    "        self.count =+ 1\n",
    "     \n",
    "    \n"
   ]
  },
  {
   "cell_type": "code",
   "execution_count": null,
   "id": "9d27a448",
   "metadata": {},
   "outputs": [],
   "source": [
    "def add_at_tail(self,ele):\n",
    "        new_node = self._node_(ele)\n",
    "        if not self.is_empty():\n",
    "            self.tail.next = new_node.next\n",
    "            self.tail = new_node\n",
    "        else:\n",
    "            self.head = self.tail = new_node\n",
    "\n",
    "    def is_member(self,key):\n",
    "        cur = self.head\n",
    "        while cur!= None:\n",
    "            if cur.data == key:\n",
    "                break;\n",
    "            else:\n",
    "                cur = cur.next\n",
    "        return cur!= None\n",
    "\n",
    "    def delete_at_tail(self):\n",
    "        data = self.tail.data\n",
    "        if not self.id_empty():\n",
    "            if self.count>1:\n",
    "                last = self.tail\n",
    "                cur = self.head\n",
    "                while cur.next == last:\n",
    "                    cur = cur.next\n",
    "                cur.next = None\n",
    "                self.tail = cur\n",
    "\n",
    "            else:\n",
    "                self.head = self.tail=None\n",
    "                count = count -1\n",
    "                return data\n",
    "        else:\n",
    "            return None\n",
    "\n",
    "    def delete_at_head(self):\n",
    "        if not self.id_empty():\n",
    "            data = self.head.data\n",
    "            cur = self.head\n",
    "            head = cur.next\n",
    "            cur = None\n"
   ]
  }
 ],
 "metadata": {
  "kernelspec": {
   "display_name": ".venv",
   "language": "python",
   "name": "python3"
  },
  "language_info": {
   "name": "python",
   "version": "3.11.4"
  }
 },
 "nbformat": 4,
 "nbformat_minor": 5
}
